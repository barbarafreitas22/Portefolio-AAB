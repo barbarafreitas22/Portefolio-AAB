{
 "cells": [
  {
   "cell_type": "markdown",
   "metadata": {},
   "source": [
    "### Metabolic Networks"
   ]
  },
  {
   "cell_type": "markdown",
   "metadata": {},
   "source": [
    "Objective: building and analyzing a metabolic network derived from biochemical reaction data. The goal is to understand how metabolites interact, determine their significance within the network, and simulate how metabolic reactions unfold from a given starting point.\n",
    "\n",
    "**Data (e-coli.txt)**\n",
    "\n",
    "- Ecoli.txt contains biochemical reactions, each listed on a separate line.\n",
    "- Reactions follow a standardized format, where substrates produce one or more products:\n",
    "- A parser extracts and structures these reactions into a usable format, organizing them into dictionaries of substrates and products.\n",
    "\n",
    "**Network Construction**\n",
    "\n",
    "A custom graph structure (MN_Graph) is implemented to model the metabolic network.\n",
    "Each metabolite is represented as a node.\n",
    "Edges are created between metabolites that participate together in the same reaction.\n",
    "The resulting graph captures the biochemical connectivity of the system.\n",
    "\n",
    "**Centrality and Network Metrics**\n",
    "\n",
    "To assess the influence of each metabolite, the network is analyzed using standard centrality measures:\n",
    "Degree Centrality: Counts of direct connections a node has.\n",
    "Closeness Centrality: Measures how easily a node can reach others in the network.\n",
    "Betweenness Centrality: Highlights nodes that frequently occur on the shortest paths between other nodes.\n",
    "These metrics help identify the most critical metabolites in terms of connectivity and influence.\n",
    "\n",
    "**Dynamic Simulation of Metabolic Propagation**\n",
    "\n",
    "Starting from an initial list of known metabolites, the system simulates how reactions progress:\n",
    "identifies active reactions and adds newly produced products to the known set until there is no new metabolites.\n",
    "\n",
    "**Results**\n",
    "\n",
    "A ranked list of key metabolites based on centrality analysis.\n",
    "The final set of metabolites that can be synthesized.\n",
    "\n",
    "**Use Cases**\n",
    "\n",
    "This type of analysis is valuable for:\n",
    "Exploring and optimizing metabolic pathways.\n",
    "Identifying targets for metabolic engineering.\n",
    "Simulating biological behavior in synthetic biology applications."
   ]
  },
  {
   "cell_type": "code",
   "execution_count": null,
   "metadata": {},
   "outputs": [],
   "source": [
    "from Graphs import MyGraph\n",
    "\n",
    "class MN_Graph(MyGraph):\n",
    "    def __init__(self, g = {}):\n",
    "        # Call the constructor of the parent class to initialize the graph\n",
    "        super().__init__(g)\n"
   ]
  }
 ],
 "metadata": {
  "kernelspec": {
   "display_name": "Python 3",
   "language": "python",
   "name": "python3"
  },
  "language_info": {
   "name": "python",
   "version": "3.12.4"
  }
 },
 "nbformat": 4,
 "nbformat_minor": 2
}
